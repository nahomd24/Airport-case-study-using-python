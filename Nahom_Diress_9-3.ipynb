{
 "cells": [
  {
   "cell_type": "markdown",
   "id": "04563888-a1fc-4646-9134-0fd567140c68",
   "metadata": {},
   "source": [
    "# Activity 9.3: The Airports Case Study"
   ]
  },
  {
   "cell_type": "code",
   "execution_count": 1,
   "id": "dec0c185-e644-4449-935d-da8cfae5f3dc",
   "metadata": {
    "tags": []
   },
   "outputs": [],
   "source": [
    "# Nahom Diress\n",
    "import pandas as pd\n",
    "import seaborn as sns"
   ]
  },
  {
   "cell_type": "markdown",
   "id": "806b9870-73f7-4ca6-bd1b-8f281297a8f9",
   "metadata": {},
   "source": [
    "# Tasks and Questions"
   ]
  },
  {
   "cell_type": "code",
   "execution_count": 5,
   "id": "f9a52e00-ea6b-41b5-9a39-8863d342bfdd",
   "metadata": {
    "tags": []
   },
   "outputs": [
    {
     "name": "stderr",
     "output_type": "stream",
     "text": [
      "C:\\Users\\nahom\\AppData\\Local\\Temp\\ipykernel_32300\\2024060671.py:2: DtypeWarning: Columns (0) have mixed types. Specify dtype option on import or set low_memory=False.\n",
      "  tsa = pd.read_csv('tsa_claims.csv')\n"
     ]
    }
   ],
   "source": [
    "# 1 Read the CSV file \n",
    "tsa = pd.read_csv('tsa_claims.csv')"
   ]
  },
  {
   "cell_type": "code",
   "execution_count": 6,
   "id": "d439c071-b6e5-4d2a-b127-6fbd504773dd",
   "metadata": {
    "tags": []
   },
   "outputs": [
    {
     "name": "stdout",
     "output_type": "stream",
     "text": [
      "<class 'pandas.core.frame.DataFrame'>\n",
      "RangeIndex: 94848 entries, 0 to 94847\n",
      "Data columns (total 13 columns):\n",
      " #   Column         Non-Null Count  Dtype  \n",
      "---  ------         --------------  -----  \n",
      " 0   Claim Number   94848 non-null  object \n",
      " 1   Date Received  94848 non-null  object \n",
      " 2   Incident Date  94848 non-null  object \n",
      " 3   Airport Code   94848 non-null  object \n",
      " 4   Airport Name   94848 non-null  object \n",
      " 5   Airline Name   94848 non-null  object \n",
      " 6   Claim Type     94848 non-null  object \n",
      " 7   Claim Site     94848 non-null  object \n",
      " 8   Item           94848 non-null  object \n",
      " 9   Claim Amount   94848 non-null  float64\n",
      " 10  Status         94848 non-null  object \n",
      " 11  Close Amount   94848 non-null  float64\n",
      " 12  Disposition    94848 non-null  object \n",
      "dtypes: float64(2), object(11)\n",
      "memory usage: 9.4+ MB\n"
     ]
    }
   ],
   "source": [
    "# 2 Display Information about your data\n",
    "tsa.info()"
   ]
  },
  {
   "cell_type": "code",
   "execution_count": 22,
   "id": "2863c526-aecd-4ddd-a636-3b890938aa00",
   "metadata": {
    "tags": []
   },
   "outputs": [
    {
     "name": "stdout",
     "output_type": "stream",
     "text": [
      "<class 'pandas.core.frame.DataFrame'>\n",
      "RangeIndex: 94848 entries, 0 to 94847\n",
      "Data columns (total 13 columns):\n",
      " #   Column         Non-Null Count  Dtype         \n",
      "---  ------         --------------  -----         \n",
      " 0   Claim Number   94848 non-null  object        \n",
      " 1   Date Received  94848 non-null  datetime64[ns]\n",
      " 2   Incident Date  94848 non-null  datetime64[ns]\n",
      " 3   Airport Code   94848 non-null  object        \n",
      " 4   Airport Name   94848 non-null  object        \n",
      " 5   Airline Name   94848 non-null  object        \n",
      " 6   Claim Type     94848 non-null  object        \n",
      " 7   Claim Site     94848 non-null  object        \n",
      " 8   Item           94848 non-null  object        \n",
      " 9   Claim Amount   94848 non-null  float64       \n",
      " 10  Status         94848 non-null  object        \n",
      " 11  Close Amount   94848 non-null  float64       \n",
      " 12  Disposition    94848 non-null  object        \n",
      "dtypes: datetime64[ns](2), float64(2), object(9)\n",
      "memory usage: 9.4+ MB\n"
     ]
    }
   ],
   "source": [
    "# 3 Perform additional cleaning or preparation, like datetime(), for future tasks and questions\n",
    "tsa['Date Received'] = pd.to_datetime(tsa['Date Received'])\n",
    "tsa['Incident Date'] = pd.to_datetime(tsa['Incident Date'])"
   ]
  },
  {
   "cell_type": "code",
   "execution_count": 23,
   "id": "bf4fb14e-a2d4-402e-9c06-bba00e676ff7",
   "metadata": {
    "tags": []
   },
   "outputs": [
    {
     "name": "stdout",
     "output_type": "stream",
     "text": [
      "<class 'pandas.core.frame.DataFrame'>\n",
      "RangeIndex: 94848 entries, 0 to 94847\n",
      "Data columns (total 13 columns):\n",
      " #   Column         Non-Null Count  Dtype         \n",
      "---  ------         --------------  -----         \n",
      " 0   Claim Number   94848 non-null  object        \n",
      " 1   Date Received  94848 non-null  datetime64[ns]\n",
      " 2   Incident Date  94848 non-null  datetime64[ns]\n",
      " 3   Airport Code   94848 non-null  object        \n",
      " 4   Airport Name   94848 non-null  object        \n",
      " 5   Airline Name   94848 non-null  object        \n",
      " 6   Claim Type     94848 non-null  object        \n",
      " 7   Claim Site     94848 non-null  object        \n",
      " 8   Item           94848 non-null  object        \n",
      " 9   Claim Amount   94848 non-null  float64       \n",
      " 10  Status         94848 non-null  object        \n",
      " 11  Close Amount   94848 non-null  float64       \n",
      " 12  Disposition    94848 non-null  object        \n",
      "dtypes: datetime64[ns](2), float64(2), object(9)\n",
      "memory usage: 9.4+ MB\n"
     ]
    }
   ],
   "source": [
    "# 4 Display Information about your data again to verify\n",
    "tsa.info()"
   ]
  },
  {
   "cell_type": "code",
   "execution_count": 55,
   "id": "1c1ac942-1911-48f4-990d-f8885e29dd9c",
   "metadata": {
    "tags": []
   },
   "outputs": [
    {
     "data": {
      "text/plain": [
       "Claim Type\n",
       "Passenger Property Loss    60265\n",
       "Property Damage            33730\n",
       "Passenger Theft              331\n",
       "Employee Loss (MPCECA)       308\n",
       "Personal Injury              208\n",
       "Motor Vehicle                  6\n",
       "Name: count, dtype: int64"
      ]
     },
     "execution_count": 55,
     "metadata": {},
     "output_type": "execute_result"
    }
   ],
   "source": [
    "# A: What is the most common type of insurance claim?\n",
    "tsa['Claim Type'].value_counts()"
   ]
  },
  {
   "cell_type": "code",
   "execution_count": 56,
   "id": "19f79d6c-d536-47d5-bd0c-d6cd7e56eb1c",
   "metadata": {
    "tags": []
   },
   "outputs": [
    {
     "data": {
      "text/plain": [
       "Claim Site\n",
       "Checked Baggage    80553\n",
       "Checkpoint         14013\n",
       "Other                280\n",
       "Motor Vehicle          2\n",
       "Name: count, dtype: int64"
      ]
     },
     "execution_count": 56,
     "metadata": {},
     "output_type": "execute_result"
    }
   ],
   "source": [
    "# B: Which claim site within the airport are claims most commonly filed for?\n",
    "tsa['Claim Site'].value_counts()"
   ]
  },
  {
   "cell_type": "code",
   "execution_count": 76,
   "id": "3b20cf5f-cc74-4659-9de5-47ba5bd37b2e",
   "metadata": {
    "tags": []
   },
   "outputs": [
    {
     "data": {
      "text/plain": [
       "Claim Site       Claim Type             \n",
       "Checked Baggage  Employee Loss (MPCECA)       275\n",
       "                 Motor Vehicle                  4\n",
       "                 Passenger Property Loss    53364\n",
       "                 Passenger Theft              294\n",
       "                 Personal Injury               89\n",
       "                 Property Damage            26527\n",
       "Checkpoint       Employee Loss (MPCECA)        32\n",
       "                 Motor Vehicle                  1\n",
       "                 Passenger Property Loss     6740\n",
       "                 Passenger Theft               36\n",
       "                 Personal Injury              112\n",
       "                 Property Damage             7092\n",
       "Motor Vehicle    Passenger Property Loss        2\n",
       "Other            Employee Loss (MPCECA)         1\n",
       "                 Motor Vehicle                  1\n",
       "                 Passenger Property Loss      159\n",
       "                 Passenger Theft                1\n",
       "                 Personal Injury                7\n",
       "                 Property Damage              111\n",
       "dtype: int64"
      ]
     },
     "execution_count": 76,
     "metadata": {},
     "output_type": "execute_result"
    }
   ],
   "source": [
    "# C: What type of claim is made most at each claim site?\n",
    "claim_counts = tsa.groupby(['Claim Site', 'Claim Type'])\n",
    "claim_counts.size()"
   ]
  },
  {
   "cell_type": "code",
   "execution_count": 82,
   "id": "2752f3c8-d583-4a4c-a61f-755127531686",
   "metadata": {
    "tags": []
   },
   "outputs": [
    {
     "data": {
      "text/plain": [
       "3632.6011140983464"
      ]
     },
     "execution_count": 82,
     "metadata": {},
     "output_type": "execute_result"
    }
   ],
   "source": [
    "# D: What is the average claim amount?\n",
    "tsa['Claim Amount'].mean()"
   ]
  },
  {
   "cell_type": "code",
   "execution_count": 100,
   "id": "0e614e9d-68c4-4cbc-8a9a-d896aed74cb3",
   "metadata": {
    "tags": []
   },
   "outputs": [
    {
     "data": {
      "text/html": [
       "<div>\n",
       "<style scoped>\n",
       "    .dataframe tbody tr th:only-of-type {\n",
       "        vertical-align: middle;\n",
       "    }\n",
       "\n",
       "    .dataframe tbody tr th {\n",
       "        vertical-align: top;\n",
       "    }\n",
       "\n",
       "    .dataframe thead th {\n",
       "        text-align: right;\n",
       "    }\n",
       "</style>\n",
       "<table border=\"1\" class=\"dataframe\">\n",
       "  <thead>\n",
       "    <tr style=\"text-align: right;\">\n",
       "      <th></th>\n",
       "      <th>Claim Amount</th>\n",
       "      <th>Close Amount</th>\n",
       "    </tr>\n",
       "    <tr>\n",
       "      <th>Status</th>\n",
       "      <th></th>\n",
       "      <th></th>\n",
       "    </tr>\n",
       "  </thead>\n",
       "  <tbody>\n",
       "    <tr>\n",
       "      <th>Approved</th>\n",
       "      <td>148.252741</td>\n",
       "      <td>147.522242</td>\n",
       "    </tr>\n",
       "    <tr>\n",
       "      <th>Canceled</th>\n",
       "      <td>260.440000</td>\n",
       "      <td>140.048333</td>\n",
       "    </tr>\n",
       "    <tr>\n",
       "      <th>Denied</th>\n",
       "      <td>6212.980462</td>\n",
       "      <td>9.011792</td>\n",
       "    </tr>\n",
       "    <tr>\n",
       "      <th>Pending response from claimant</th>\n",
       "      <td>1359.000000</td>\n",
       "      <td>559.000000</td>\n",
       "    </tr>\n",
       "    <tr>\n",
       "      <th>Settled</th>\n",
       "      <td>550.152134</td>\n",
       "      <td>235.597360</td>\n",
       "    </tr>\n",
       "  </tbody>\n",
       "</table>\n",
       "</div>"
      ],
      "text/plain": [
       "                                Claim Amount  Close Amount\n",
       "Status                                                    \n",
       "Approved                          148.252741    147.522242\n",
       "Canceled                          260.440000    140.048333\n",
       "Denied                           6212.980462      9.011792\n",
       "Pending response from claimant   1359.000000    559.000000\n",
       "Settled                           550.152134    235.597360"
      ]
     },
     "execution_count": 100,
     "metadata": {},
     "output_type": "execute_result"
    }
   ],
   "source": [
    "# E: If a claim is approved or settled, what percent of the claim amount do the airports pay?\n",
    "claim_status = tsa.groupby('Status').agg({'Claim Amount': 'mean', 'Close Amount': 'mean'})\n",
    "claim_status"
   ]
  },
  {
   "cell_type": "code",
   "execution_count": 104,
   "id": "6df34f54-eeb6-4603-b4b6-ee4b7b1d39c0",
   "metadata": {
    "tags": []
   },
   "outputs": [
    {
     "data": {
      "text/plain": [
       "Airport Name\n",
       "Los Angeles International Airport       4492\n",
       "John F. Kennedy International           3835\n",
       "Chicago O'Hare International Airport    3620\n",
       "Newark International Airport            3594\n",
       "Miami International Airport             2986\n",
       "Name: count, dtype: int64"
      ]
     },
     "execution_count": 104,
     "metadata": {},
     "output_type": "execute_result"
    }
   ],
   "source": [
    "# F: What are the five airports with the most claims?\n",
    "tsa['Airport Name'].value_counts().head()"
   ]
  },
  {
   "cell_type": "code",
   "execution_count": 105,
   "id": "26618dd0-d9a8-4cfb-bb64-35c175c4e71f",
   "metadata": {
    "tags": []
   },
   "outputs": [
    {
     "data": {
      "text/plain": [
       "<Axes: xlabel='Date Received', ylabel='Close Amount'>"
      ]
     },
     "execution_count": 105,
     "metadata": {},
     "output_type": "execute_result"
    },
    {
     "data": {
      "image/png": "[encoded data removed]",
      "text/plain": [
       "<Figure size 640x480 with 1 Axes>"
      ]
     },
     "metadata": {},
     "output_type": "display_data"
    }
   ],
   "source": [
    "# G: Has the total close amounts increased or decreased over time, or do they appear to have remained steady?\n",
    "tsa.plot.scatter(x= 'Date Received', y= 'Close Amount')\n",
    "# It look like it has stayed consistent throughout the years"
   ]
  },
  {
   "cell_type": "code",
   "execution_count": null,
   "id": "0852497f-f8e7-4131-acac-6473573b61d9",
   "metadata": {},
   "outputs": [],
   "source": []
  }
 ],
 "metadata": {
  "kernelspec": {
   "display_name": "Python 3 (ipykernel)",
   "language": "python",
   "name": "python3"
  },
  "language_info": {
   "codemirror_mode": {
    "name": "ipython",
    "version": 3
   },
   "file_extension": ".py",
   "mimetype": "text/x-python",
   "name": "python",
   "nbconvert_exporter": "python",
   "pygments_lexer": "ipython3",
   "version": "3.11.5"
  }
 },
 "nbformat": 4,
 "nbformat_minor": 5
}
